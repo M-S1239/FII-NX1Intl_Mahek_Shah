{
  "nbformat": 4,
  "nbformat_minor": 0,
  "metadata": {
    "colab": {
      "provenance": []
    },
    "kernelspec": {
      "name": "python3",
      "display_name": "Python 3"
    },
    "language_info": {
      "name": "python"
    }
  },
  "cells": [
    {
      "cell_type": "markdown",
      "source": [
        "Problem Statement"
      ],
      "metadata": {
        "id": "jQa80k_AvpS7"
      }
    },
    {
      "cell_type": "code",
      "source": [
        "# **Problem Definition:**\n",
        "# The problem is to detect gender bias in hiring-related text data, specifically within job descriptions and interviewer remarks. Gender bias can manifest in subtle or explicit ways, potentially leading to unfair hiring practices. Identifying and quantifying this bias is crucial for promoting diversity and inclusion in the workplace.\n",
        "\n",
        "# **Goal:**\n",
        "# The primary goal is to develop a system or process that can effectively analyze hiring-related text and accurately identify instances of gender bias. This involves:\n",
        "# 1. **Identifying biased language:** Recognizing words, phrases, or patterns that are statistically or qualitatively associated with one gender over another in a way that suggests bias (e.g., using masculine pronouns exclusively for a leadership role, or using stereotypical adjectives).\n",
        "# 2. **Quantifying the level of bias:** Providing a measure or score indicating the severity or prevalence of gender bias within a given text.\n",
        "# 3. **Categorizing the type of bias (optional but beneficial):** Distinguishing between different forms of bias, such as prescriptive bias (describing how a gender *should* behave) or descriptive bias (describing how a gender *does* behave).\n",
        "# 4. **Providing insights and recommendations:** Helping users understand where the bias exists and potentially suggesting alternative, more neutral language.\n",
        "\n",
        "# The ultimate aim is to create a tool that can be used by HR professionals, recruiters, and hiring managers to review and revise their communication to ensure it is inclusive and free from unintentional gender bias, thereby fostering a more equitable hiring process."
      ],
      "metadata": {
        "id": "Zv0_MoY0NNg0"
      },
      "execution_count": null,
      "outputs": []
    },
    {
      "cell_type": "markdown",
      "source": [
        "Installing transformers\n"
      ],
      "metadata": {
        "id": "qp2z6YuvU-UM"
      }
    },
    {
      "cell_type": "code",
      "source": [
        "!pip install transformers"
      ],
      "metadata": {
        "colab": {
          "base_uri": "https://localhost:8080/"
        },
        "id": "KcYW41k-VG0I",
        "outputId": "9dce8c2a-f5a0-45de-fb29-de7dae8fce6b"
      },
      "execution_count": 1,
      "outputs": [
        {
          "output_type": "stream",
          "name": "stdout",
          "text": [
            "Requirement already satisfied: transformers in /usr/local/lib/python3.11/dist-packages (4.52.4)\n",
            "Requirement already satisfied: filelock in /usr/local/lib/python3.11/dist-packages (from transformers) (3.18.0)\n",
            "Requirement already satisfied: huggingface-hub<1.0,>=0.30.0 in /usr/local/lib/python3.11/dist-packages (from transformers) (0.32.4)\n",
            "Requirement already satisfied: numpy>=1.17 in /usr/local/lib/python3.11/dist-packages (from transformers) (2.0.2)\n",
            "Requirement already satisfied: packaging>=20.0 in /usr/local/lib/python3.11/dist-packages (from transformers) (24.2)\n",
            "Requirement already satisfied: pyyaml>=5.1 in /usr/local/lib/python3.11/dist-packages (from transformers) (6.0.2)\n",
            "Requirement already satisfied: regex!=2019.12.17 in /usr/local/lib/python3.11/dist-packages (from transformers) (2024.11.6)\n",
            "Requirement already satisfied: requests in /usr/local/lib/python3.11/dist-packages (from transformers) (2.32.3)\n",
            "Requirement already satisfied: tokenizers<0.22,>=0.21 in /usr/local/lib/python3.11/dist-packages (from transformers) (0.21.1)\n",
            "Requirement already satisfied: safetensors>=0.4.3 in /usr/local/lib/python3.11/dist-packages (from transformers) (0.5.3)\n",
            "Requirement already satisfied: tqdm>=4.27 in /usr/local/lib/python3.11/dist-packages (from transformers) (4.67.1)\n",
            "Requirement already satisfied: fsspec>=2023.5.0 in /usr/local/lib/python3.11/dist-packages (from huggingface-hub<1.0,>=0.30.0->transformers) (2025.3.2)\n",
            "Requirement already satisfied: typing-extensions>=3.7.4.3 in /usr/local/lib/python3.11/dist-packages (from huggingface-hub<1.0,>=0.30.0->transformers) (4.14.0)\n",
            "Requirement already satisfied: hf-xet<2.0.0,>=1.1.2 in /usr/local/lib/python3.11/dist-packages (from huggingface-hub<1.0,>=0.30.0->transformers) (1.1.2)\n",
            "Requirement already satisfied: charset-normalizer<4,>=2 in /usr/local/lib/python3.11/dist-packages (from requests->transformers) (3.4.2)\n",
            "Requirement already satisfied: idna<4,>=2.5 in /usr/local/lib/python3.11/dist-packages (from requests->transformers) (3.10)\n",
            "Requirement already satisfied: urllib3<3,>=1.21.1 in /usr/local/lib/python3.11/dist-packages (from requests->transformers) (2.4.0)\n",
            "Requirement already satisfied: certifi>=2017.4.17 in /usr/local/lib/python3.11/dist-packages (from requests->transformers) (2025.4.26)\n"
          ]
        }
      ]
    },
    {
      "cell_type": "markdown",
      "source": [
        "Import Libraries"
      ],
      "metadata": {
        "id": "KQTTfbwwv8OO"
      }
    },
    {
      "cell_type": "code",
      "source": [
        "import pandas as pd\n",
        "\n",
        "data = {\n",
        "    'text': [\n",
        "        \"We are looking for a highly motivated and ambitious software engineer. He must be a strong leader.\",\n",
        "        \"Seeking a detail-oriented and organized administrative assistant. She should be a team player.\",\n",
        "        \"Join our dynamic team as a project manager. Requires strong communication and problem-solving skills.\",\n",
        "        \"Looking for a rockstar programmer. Must be a go-getter and be able to work independently. He will thrive in our fast-paced environment.\",\n",
        "        \"Entry-level position for a marketing associate. Requires excellent written and verbal communication.\",\n",
        "        \"Seeking a skilled negotiator. He or she will be responsible for closing deals.\"\n",
        "    ],\n",
        "    'source': ['job_description', 'job_description', 'job_description', 'job_description', 'job_description', 'job_description'],\n",
        "    'label': [1, 1, 0, 1, 0, 0] # 1 indicates potential bias, 0 indicates likely no bias (manual labeling for this example)\n",
        "}\n",
        "\n",
        "df = pd.DataFrame(data)\n",
        "\n",
        "print(\"Sample acquired data:\")\n",
        "df\n"
      ],
      "metadata": {
        "colab": {
          "base_uri": "https://localhost:8080/",
          "height": 255
        },
        "id": "pcOaGH0WNmqI",
        "outputId": "acc95dd9-63aa-4a50-b87f-4a832eb17415"
      },
      "execution_count": null,
      "outputs": [
        {
          "output_type": "stream",
          "name": "stdout",
          "text": [
            "Sample acquired data:\n"
          ]
        },
        {
          "output_type": "execute_result",
          "data": {
            "text/plain": [
              "                                                text           source  label\n",
              "0  We are looking for a highly motivated and ambi...  job_description      1\n",
              "1  Seeking a detail-oriented and organized admini...  job_description      1\n",
              "2  Join our dynamic team as a project manager. Re...  job_description      0\n",
              "3  Looking for a rockstar programmer. Must be a g...  job_description      1\n",
              "4  Entry-level position for a marketing associate...  job_description      0\n",
              "5  Seeking a skilled negotiator. He or she will b...  job_description      0"
            ],
            "text/html": [
              "\n",
              "  <div id=\"df-86346e82-6e08-4c45-a56c-20f503f96cd9\" class=\"colab-df-container\">\n",
              "    <div>\n",
              "<style scoped>\n",
              "    .dataframe tbody tr th:only-of-type {\n",
              "        vertical-align: middle;\n",
              "    }\n",
              "\n",
              "    .dataframe tbody tr th {\n",
              "        vertical-align: top;\n",
              "    }\n",
              "\n",
              "    .dataframe thead th {\n",
              "        text-align: right;\n",
              "    }\n",
              "</style>\n",
              "<table border=\"1\" class=\"dataframe\">\n",
              "  <thead>\n",
              "    <tr style=\"text-align: right;\">\n",
              "      <th></th>\n",
              "      <th>text</th>\n",
              "      <th>source</th>\n",
              "      <th>label</th>\n",
              "    </tr>\n",
              "  </thead>\n",
              "  <tbody>\n",
              "    <tr>\n",
              "      <th>0</th>\n",
              "      <td>We are looking for a highly motivated and ambi...</td>\n",
              "      <td>job_description</td>\n",
              "      <td>1</td>\n",
              "    </tr>\n",
              "    <tr>\n",
              "      <th>1</th>\n",
              "      <td>Seeking a detail-oriented and organized admini...</td>\n",
              "      <td>job_description</td>\n",
              "      <td>1</td>\n",
              "    </tr>\n",
              "    <tr>\n",
              "      <th>2</th>\n",
              "      <td>Join our dynamic team as a project manager. Re...</td>\n",
              "      <td>job_description</td>\n",
              "      <td>0</td>\n",
              "    </tr>\n",
              "    <tr>\n",
              "      <th>3</th>\n",
              "      <td>Looking for a rockstar programmer. Must be a g...</td>\n",
              "      <td>job_description</td>\n",
              "      <td>1</td>\n",
              "    </tr>\n",
              "    <tr>\n",
              "      <th>4</th>\n",
              "      <td>Entry-level position for a marketing associate...</td>\n",
              "      <td>job_description</td>\n",
              "      <td>0</td>\n",
              "    </tr>\n",
              "    <tr>\n",
              "      <th>5</th>\n",
              "      <td>Seeking a skilled negotiator. He or she will b...</td>\n",
              "      <td>job_description</td>\n",
              "      <td>0</td>\n",
              "    </tr>\n",
              "  </tbody>\n",
              "</table>\n",
              "</div>\n",
              "    <div class=\"colab-df-buttons\">\n",
              "\n",
              "  <div class=\"colab-df-container\">\n",
              "    <button class=\"colab-df-convert\" onclick=\"convertToInteractive('df-86346e82-6e08-4c45-a56c-20f503f96cd9')\"\n",
              "            title=\"Convert this dataframe to an interactive table.\"\n",
              "            style=\"display:none;\">\n",
              "\n",
              "  <svg xmlns=\"http://www.w3.org/2000/svg\" height=\"24px\" viewBox=\"0 -960 960 960\">\n",
              "    <path d=\"M120-120v-720h720v720H120Zm60-500h600v-160H180v160Zm220 220h160v-160H400v160Zm0 220h160v-160H400v160ZM180-400h160v-160H180v160Zm440 0h160v-160H620v160ZM180-180h160v-160H180v160Zm440 0h160v-160H620v160Z\"/>\n",
              "  </svg>\n",
              "    </button>\n",
              "\n",
              "  <style>\n",
              "    .colab-df-container {\n",
              "      display:flex;\n",
              "      gap: 12px;\n",
              "    }\n",
              "\n",
              "    .colab-df-convert {\n",
              "      background-color: #E8F0FE;\n",
              "      border: none;\n",
              "      border-radius: 50%;\n",
              "      cursor: pointer;\n",
              "      display: none;\n",
              "      fill: #1967D2;\n",
              "      height: 32px;\n",
              "      padding: 0 0 0 0;\n",
              "      width: 32px;\n",
              "    }\n",
              "\n",
              "    .colab-df-convert:hover {\n",
              "      background-color: #E2EBFA;\n",
              "      box-shadow: 0px 1px 2px rgba(60, 64, 67, 0.3), 0px 1px 3px 1px rgba(60, 64, 67, 0.15);\n",
              "      fill: #174EA6;\n",
              "    }\n",
              "\n",
              "    .colab-df-buttons div {\n",
              "      margin-bottom: 4px;\n",
              "    }\n",
              "\n",
              "    [theme=dark] .colab-df-convert {\n",
              "      background-color: #3B4455;\n",
              "      fill: #D2E3FC;\n",
              "    }\n",
              "\n",
              "    [theme=dark] .colab-df-convert:hover {\n",
              "      background-color: #434B5C;\n",
              "      box-shadow: 0px 1px 3px 1px rgba(0, 0, 0, 0.15);\n",
              "      filter: drop-shadow(0px 1px 2px rgba(0, 0, 0, 0.3));\n",
              "      fill: #FFFFFF;\n",
              "    }\n",
              "  </style>\n",
              "\n",
              "    <script>\n",
              "      const buttonEl =\n",
              "        document.querySelector('#df-86346e82-6e08-4c45-a56c-20f503f96cd9 button.colab-df-convert');\n",
              "      buttonEl.style.display =\n",
              "        google.colab.kernel.accessAllowed ? 'block' : 'none';\n",
              "\n",
              "      async function convertToInteractive(key) {\n",
              "        const element = document.querySelector('#df-86346e82-6e08-4c45-a56c-20f503f96cd9');\n",
              "        const dataTable =\n",
              "          await google.colab.kernel.invokeFunction('convertToInteractive',\n",
              "                                                    [key], {});\n",
              "        if (!dataTable) return;\n",
              "\n",
              "        const docLinkHtml = 'Like what you see? Visit the ' +\n",
              "          '<a target=\"_blank\" href=https://colab.research.google.com/notebooks/data_table.ipynb>data table notebook</a>'\n",
              "          + ' to learn more about interactive tables.';\n",
              "        element.innerHTML = '';\n",
              "        dataTable['output_type'] = 'display_data';\n",
              "        await google.colab.output.renderOutput(dataTable, element);\n",
              "        const docLink = document.createElement('div');\n",
              "        docLink.innerHTML = docLinkHtml;\n",
              "        element.appendChild(docLink);\n",
              "      }\n",
              "    </script>\n",
              "  </div>\n",
              "\n",
              "\n",
              "    <div id=\"df-cdd5bf82-318c-437c-9a84-532483f285d5\">\n",
              "      <button class=\"colab-df-quickchart\" onclick=\"quickchart('df-cdd5bf82-318c-437c-9a84-532483f285d5')\"\n",
              "                title=\"Suggest charts\"\n",
              "                style=\"display:none;\">\n",
              "\n",
              "<svg xmlns=\"http://www.w3.org/2000/svg\" height=\"24px\"viewBox=\"0 0 24 24\"\n",
              "     width=\"24px\">\n",
              "    <g>\n",
              "        <path d=\"M19 3H5c-1.1 0-2 .9-2 2v14c0 1.1.9 2 2 2h14c1.1 0 2-.9 2-2V5c0-1.1-.9-2-2-2zM9 17H7v-7h2v7zm4 0h-2V7h2v10zm4 0h-2v-4h2v4z\"/>\n",
              "    </g>\n",
              "</svg>\n",
              "      </button>\n",
              "\n",
              "<style>\n",
              "  .colab-df-quickchart {\n",
              "      --bg-color: #E8F0FE;\n",
              "      --fill-color: #1967D2;\n",
              "      --hover-bg-color: #E2EBFA;\n",
              "      --hover-fill-color: #174EA6;\n",
              "      --disabled-fill-color: #AAA;\n",
              "      --disabled-bg-color: #DDD;\n",
              "  }\n",
              "\n",
              "  [theme=dark] .colab-df-quickchart {\n",
              "      --bg-color: #3B4455;\n",
              "      --fill-color: #D2E3FC;\n",
              "      --hover-bg-color: #434B5C;\n",
              "      --hover-fill-color: #FFFFFF;\n",
              "      --disabled-bg-color: #3B4455;\n",
              "      --disabled-fill-color: #666;\n",
              "  }\n",
              "\n",
              "  .colab-df-quickchart {\n",
              "    background-color: var(--bg-color);\n",
              "    border: none;\n",
              "    border-radius: 50%;\n",
              "    cursor: pointer;\n",
              "    display: none;\n",
              "    fill: var(--fill-color);\n",
              "    height: 32px;\n",
              "    padding: 0;\n",
              "    width: 32px;\n",
              "  }\n",
              "\n",
              "  .colab-df-quickchart:hover {\n",
              "    background-color: var(--hover-bg-color);\n",
              "    box-shadow: 0 1px 2px rgba(60, 64, 67, 0.3), 0 1px 3px 1px rgba(60, 64, 67, 0.15);\n",
              "    fill: var(--button-hover-fill-color);\n",
              "  }\n",
              "\n",
              "  .colab-df-quickchart-complete:disabled,\n",
              "  .colab-df-quickchart-complete:disabled:hover {\n",
              "    background-color: var(--disabled-bg-color);\n",
              "    fill: var(--disabled-fill-color);\n",
              "    box-shadow: none;\n",
              "  }\n",
              "\n",
              "  .colab-df-spinner {\n",
              "    border: 2px solid var(--fill-color);\n",
              "    border-color: transparent;\n",
              "    border-bottom-color: var(--fill-color);\n",
              "    animation:\n",
              "      spin 1s steps(1) infinite;\n",
              "  }\n",
              "\n",
              "  @keyframes spin {\n",
              "    0% {\n",
              "      border-color: transparent;\n",
              "      border-bottom-color: var(--fill-color);\n",
              "      border-left-color: var(--fill-color);\n",
              "    }\n",
              "    20% {\n",
              "      border-color: transparent;\n",
              "      border-left-color: var(--fill-color);\n",
              "      border-top-color: var(--fill-color);\n",
              "    }\n",
              "    30% {\n",
              "      border-color: transparent;\n",
              "      border-left-color: var(--fill-color);\n",
              "      border-top-color: var(--fill-color);\n",
              "      border-right-color: var(--fill-color);\n",
              "    }\n",
              "    40% {\n",
              "      border-color: transparent;\n",
              "      border-right-color: var(--fill-color);\n",
              "      border-top-color: var(--fill-color);\n",
              "    }\n",
              "    60% {\n",
              "      border-color: transparent;\n",
              "      border-right-color: var(--fill-color);\n",
              "    }\n",
              "    80% {\n",
              "      border-color: transparent;\n",
              "      border-right-color: var(--fill-color);\n",
              "      border-bottom-color: var(--fill-color);\n",
              "    }\n",
              "    90% {\n",
              "      border-color: transparent;\n",
              "      border-bottom-color: var(--fill-color);\n",
              "    }\n",
              "  }\n",
              "</style>\n",
              "\n",
              "      <script>\n",
              "        async function quickchart(key) {\n",
              "          const quickchartButtonEl =\n",
              "            document.querySelector('#' + key + ' button');\n",
              "          quickchartButtonEl.disabled = true;  // To prevent multiple clicks.\n",
              "          quickchartButtonEl.classList.add('colab-df-spinner');\n",
              "          try {\n",
              "            const charts = await google.colab.kernel.invokeFunction(\n",
              "                'suggestCharts', [key], {});\n",
              "          } catch (error) {\n",
              "            console.error('Error during call to suggestCharts:', error);\n",
              "          }\n",
              "          quickchartButtonEl.classList.remove('colab-df-spinner');\n",
              "          quickchartButtonEl.classList.add('colab-df-quickchart-complete');\n",
              "        }\n",
              "        (() => {\n",
              "          let quickchartButtonEl =\n",
              "            document.querySelector('#df-cdd5bf82-318c-437c-9a84-532483f285d5 button');\n",
              "          quickchartButtonEl.style.display =\n",
              "            google.colab.kernel.accessAllowed ? 'block' : 'none';\n",
              "        })();\n",
              "      </script>\n",
              "    </div>\n",
              "\n",
              "  <div id=\"id_66f88926-e0a8-4d94-8a04-54670adea0e3\">\n",
              "    <style>\n",
              "      .colab-df-generate {\n",
              "        background-color: #E8F0FE;\n",
              "        border: none;\n",
              "        border-radius: 50%;\n",
              "        cursor: pointer;\n",
              "        display: none;\n",
              "        fill: #1967D2;\n",
              "        height: 32px;\n",
              "        padding: 0 0 0 0;\n",
              "        width: 32px;\n",
              "      }\n",
              "\n",
              "      .colab-df-generate:hover {\n",
              "        background-color: #E2EBFA;\n",
              "        box-shadow: 0px 1px 2px rgba(60, 64, 67, 0.3), 0px 1px 3px 1px rgba(60, 64, 67, 0.15);\n",
              "        fill: #174EA6;\n",
              "      }\n",
              "\n",
              "      [theme=dark] .colab-df-generate {\n",
              "        background-color: #3B4455;\n",
              "        fill: #D2E3FC;\n",
              "      }\n",
              "\n",
              "      [theme=dark] .colab-df-generate:hover {\n",
              "        background-color: #434B5C;\n",
              "        box-shadow: 0px 1px 3px 1px rgba(0, 0, 0, 0.15);\n",
              "        filter: drop-shadow(0px 1px 2px rgba(0, 0, 0, 0.3));\n",
              "        fill: #FFFFFF;\n",
              "      }\n",
              "    </style>\n",
              "    <button class=\"colab-df-generate\" onclick=\"generateWithVariable('df')\"\n",
              "            title=\"Generate code using this dataframe.\"\n",
              "            style=\"display:none;\">\n",
              "\n",
              "  <svg xmlns=\"http://www.w3.org/2000/svg\" height=\"24px\"viewBox=\"0 0 24 24\"\n",
              "       width=\"24px\">\n",
              "    <path d=\"M7,19H8.4L18.45,9,17,7.55,7,17.6ZM5,21V16.75L18.45,3.32a2,2,0,0,1,2.83,0l1.4,1.43a1.91,1.91,0,0,1,.58,1.4,1.91,1.91,0,0,1-.58,1.4L9.25,21ZM18.45,9,17,7.55Zm-12,3A5.31,5.31,0,0,0,4.9,8.1,5.31,5.31,0,0,0,1,6.5,5.31,5.31,0,0,0,4.9,4.9,5.31,5.31,0,0,0,6.5,1,5.31,5.31,0,0,0,8.1,4.9,5.31,5.31,0,0,0,12,6.5,5.46,5.46,0,0,0,6.5,12Z\"/>\n",
              "  </svg>\n",
              "    </button>\n",
              "    <script>\n",
              "      (() => {\n",
              "      const buttonEl =\n",
              "        document.querySelector('#id_66f88926-e0a8-4d94-8a04-54670adea0e3 button.colab-df-generate');\n",
              "      buttonEl.style.display =\n",
              "        google.colab.kernel.accessAllowed ? 'block' : 'none';\n",
              "\n",
              "      buttonEl.onclick = () => {\n",
              "        google.colab.notebook.generateWithVariable('df');\n",
              "      }\n",
              "      })();\n",
              "    </script>\n",
              "  </div>\n",
              "\n",
              "    </div>\n",
              "  </div>\n"
            ],
            "application/vnd.google.colaboratory.intrinsic+json": {
              "type": "dataframe",
              "variable_name": "df",
              "summary": "{\n  \"name\": \"df\",\n  \"rows\": 6,\n  \"fields\": [\n    {\n      \"column\": \"text\",\n      \"properties\": {\n        \"dtype\": \"string\",\n        \"num_unique_values\": 6,\n        \"samples\": [\n          \"We are looking for a highly motivated and ambitious software engineer. He must be a strong leader.\",\n          \"Seeking a detail-oriented and organized administrative assistant. She should be a team player.\",\n          \"Seeking a skilled negotiator. He or she will be responsible for closing deals.\"\n        ],\n        \"semantic_type\": \"\",\n        \"description\": \"\"\n      }\n    },\n    {\n      \"column\": \"source\",\n      \"properties\": {\n        \"dtype\": \"category\",\n        \"num_unique_values\": 1,\n        \"samples\": [\n          \"job_description\"\n        ],\n        \"semantic_type\": \"\",\n        \"description\": \"\"\n      }\n    },\n    {\n      \"column\": \"label\",\n      \"properties\": {\n        \"dtype\": \"number\",\n        \"std\": 0,\n        \"min\": 0,\n        \"max\": 1,\n        \"num_unique_values\": 2,\n        \"samples\": [\n          0\n        ],\n        \"semantic_type\": \"\",\n        \"description\": \"\"\n      }\n    }\n  ]\n}"
            }
          },
          "metadata": {},
          "execution_count": 7
        }
      ]
    },
    {
      "cell_type": "markdown",
      "source": [
        "Pre-processing data\n"
      ],
      "metadata": {
        "id": "Yd77v5eAwCqC"
      }
    },
    {
      "cell_type": "code",
      "source": [
        "import nltk\n",
        "import re\n",
        "from nltk.corpus import stopwords\n",
        "from nltk.stem import WordNetLemmatizer\n",
        "\n",
        "# Download necessary NLTK data\n",
        "nltk.download('punkt', quiet=True)\n",
        "nltk.download('stopwords', quiet=True)\n",
        "nltk.download('wordnet', quiet=True)\n",
        "nltk.download('punkt_tab', quiet=True) # Add this line to download the missing resource\n",
        "\n",
        "# Initialize the WordNetLemmatizer\n",
        "lemmatizer = WordNetLemmatizer()\n",
        "\n",
        "# Define a function to clean the text\n",
        "def clean_text(text):\n",
        "    # Convert text to lowercase\n",
        "    text = text.lower()\n",
        "    # Remove punctuation\n",
        "    text = re.sub(r'[^\\w\\s]', '', text)\n",
        "    # Tokenize text\n",
        "    tokens = nltk.word_tokenize(text)\n",
        "    # Remove stop words and lemmatize tokens\n",
        "    tokens = [lemmatizer.lemmatize(word) for word in tokens if word not in set(stopwords.words('english'))]\n",
        "    # Join tokens back into a string\n",
        "    text = ' '.join(tokens)\n",
        "    return text\n",
        "\n",
        "# Apply the cleaning function to the 'text' column\n",
        "df['cleaned_text'] = df['text'].apply(clean_text)"
      ],
      "metadata": {
        "id": "We6JfkDEN7Cg"
      },
      "execution_count": null,
      "outputs": []
    },
    {
      "cell_type": "markdown",
      "source": [
        "Vectorizing Data"
      ],
      "metadata": {
        "id": "JY4v8azRwMaU"
      }
    },
    {
      "cell_type": "code",
      "source": [
        "from sklearn.feature_extraction.text import TfidfVectorizer\n",
        "\n",
        "# Initialize TF-IDF Vectorizer\n",
        "# You can adjust max_features, min_df, max_df, ngram_range as needed\n",
        "tfidf_vectorizer = TfidfVectorizer(max_features=1000, min_df=5, max_df=0.7)\n",
        "\n",
        "# Fit and transform the cleaned text data\n",
        "X = tfidf_vectorizer.fit_transform(df['cleaned_text']).toarray()\n",
        "\n",
        "# You can now use the vectorized data (X) for training a classification model\n",
        "print(\"\\nShape of the vectorized data:\")\n",
        "print(X.shape)\n",
        "\n",
        "print(\"\\nSample of the vectorized data (first row):\")\n",
        "print(X[0][:10]) # Print the first 10 features of the first sample\n",
        "\n",
        "# Optional: You can get the feature names (words)\n",
        "# feature_names = tfidf_vectorizer.get_feature_names_out()\n",
        "# print(\"\\nSample feature names:\")\n",
        "# print(feature_names[:10]) # Print the first 10 feature names\n"
      ],
      "metadata": {
        "id": "rG75PXqEUMiS"
      },
      "execution_count": null,
      "outputs": []
    },
    {
      "cell_type": "markdown",
      "source": [
        "Train model\n"
      ],
      "metadata": {
        "id": "BGAOqkDtwn0C"
      }
    },
    {
      "cell_type": "code",
      "source": [
        "from sklearn.model_selection import train_test_split\n",
        "\n",
        "# Define features (X) and target (y)\n",
        "X = df['cleaned_text']  # Using the cleaned text as input features\n",
        "y = df['label']         # Using the label as the target variable\n",
        "\n",
        "# Split the dataset into training and testing sets\n",
        "X_train, X_test, y_train, y_test = train_test_split(X, y, test_size=0.2, random_state=42)\n",
        "\n",
        "print(\"\\nShape of the training features:\", X_train.shape)\n",
        "print(\"Shape of the testing features:\", X_test.shape)\n",
        "print(\"Shape of the training labels:\", y_train.shape)\n",
        "print(\"Shape of the testing labels:\", y_test.shape)\n",
        "\n",
        "print(\"\\nSample of training features:\")\n",
        "print(X_train.head())\n",
        "print(\"\\nSample of training labels:\")\n",
        "print(y_train.head())"
      ],
      "metadata": {
        "id": "rY8n4MQvV2iI"
      },
      "execution_count": null,
      "outputs": []
    },
    {
      "cell_type": "code",
      "source": [
        "from sklearn.linear_model import LogisticRegression\n",
        "\n",
        "# Choose a model (Logistic Regression for simplicity in this example)\n",
        "model = LogisticRegression()\n",
        "\n",
        "print(\"Chosen model:\", model)"
      ],
      "metadata": {
        "colab": {
          "base_uri": "https://localhost:8080/"
        },
        "id": "XwK6lWZcQF95",
        "outputId": "eceb8cc7-5667-44f7-faa3-317c93753798"
      },
      "execution_count": null,
      "outputs": [
        {
          "output_type": "stream",
          "name": "stdout",
          "text": [
            "Chosen model: LogisticRegression()\n"
          ]
        }
      ]
    },
    {
      "cell_type": "markdown",
      "source": [
        "Training the model"
      ],
      "metadata": {
        "id": "f_kyvWufxpH3"
      }
    },
    {
      "cell_type": "code",
      "source": [
        "from sklearn.feature_extraction.text import TfidfVectorizer\n",
        "from sklearn.model_selection import train_test_split\n",
        "from sklearn.metrics import accuracy_score, classification_report\n",
        "\n",
        "# Split the data into training and testing sets\n",
        "X_train, X_test, y_train, y_test = train_test_split(df['cleaned_text'], df['label'], test_size=0.2, random_state=42)\n",
        "\n",
        "# Vectorize the text data using TF-IDF\n",
        "tfidf_vectorizer = TfidfVectorizer(max_features=1000) # Limit features for this example\n",
        "X_train_tfidf = tfidf_vectorizer.fit_transform(X_train)\n",
        "X_test_tfidf = tfidf_vectorizer.transform(X_test)\n",
        "\n",
        "# Train the model\n",
        "model.fit(X_train_tfidf, y_train)\n",
        "\n",
        "# Make predictions on the test set\n",
        "y_pred = model.predict(X_test_tfidf)\n",
        "\n",
        "# Evaluate the model\n",
        "accuracy = accuracy_score(y_test, y_pred)\n",
        "report = classification_report(y_test, y_pred)\n",
        "\n",
        "print(\"\\nModel Training Complete!\")\n",
        "print(\"Accuracy:\", accuracy)\n",
        "print(\"Classification Report:\\n\", report)"
      ],
      "metadata": {
        "colab": {
          "base_uri": "https://localhost:8080/"
        },
        "id": "um2iTG5yQqnH",
        "outputId": "97eeb6ed-bd70-4aac-80a6-38de983cd348"
      },
      "execution_count": null,
      "outputs": [
        {
          "output_type": "stream",
          "name": "stdout",
          "text": [
            "\n",
            "Model Training Complete!\n",
            "Accuracy: 0.0\n",
            "Classification Report:\n",
            "               precision    recall  f1-score   support\n",
            "\n",
            "           0       0.00      0.00      0.00       0.0\n",
            "           1       0.00      0.00      0.00       2.0\n",
            "\n",
            "    accuracy                           0.00       2.0\n",
            "   macro avg       0.00      0.00      0.00       2.0\n",
            "weighted avg       0.00      0.00      0.00       2.0\n",
            "\n"
          ]
        },
        {
          "output_type": "stream",
          "name": "stderr",
          "text": [
            "/usr/local/lib/python3.11/dist-packages/sklearn/metrics/_classification.py:1565: UndefinedMetricWarning: Precision is ill-defined and being set to 0.0 in labels with no predicted samples. Use `zero_division` parameter to control this behavior.\n",
            "  _warn_prf(average, modifier, f\"{metric.capitalize()} is\", len(result))\n",
            "/usr/local/lib/python3.11/dist-packages/sklearn/metrics/_classification.py:1565: UndefinedMetricWarning: Recall is ill-defined and being set to 0.0 in labels with no true samples. Use `zero_division` parameter to control this behavior.\n",
            "  _warn_prf(average, modifier, f\"{metric.capitalize()} is\", len(result))\n",
            "/usr/local/lib/python3.11/dist-packages/sklearn/metrics/_classification.py:1565: UndefinedMetricWarning: Precision is ill-defined and being set to 0.0 in labels with no predicted samples. Use `zero_division` parameter to control this behavior.\n",
            "  _warn_prf(average, modifier, f\"{metric.capitalize()} is\", len(result))\n",
            "/usr/local/lib/python3.11/dist-packages/sklearn/metrics/_classification.py:1565: UndefinedMetricWarning: Recall is ill-defined and being set to 0.0 in labels with no true samples. Use `zero_division` parameter to control this behavior.\n",
            "  _warn_prf(average, modifier, f\"{metric.capitalize()} is\", len(result))\n",
            "/usr/local/lib/python3.11/dist-packages/sklearn/metrics/_classification.py:1565: UndefinedMetricWarning: Precision is ill-defined and being set to 0.0 in labels with no predicted samples. Use `zero_division` parameter to control this behavior.\n",
            "  _warn_prf(average, modifier, f\"{metric.capitalize()} is\", len(result))\n",
            "/usr/local/lib/python3.11/dist-packages/sklearn/metrics/_classification.py:1565: UndefinedMetricWarning: Recall is ill-defined and being set to 0.0 in labels with no true samples. Use `zero_division` parameter to control this behavior.\n",
            "  _warn_prf(average, modifier, f\"{metric.capitalize()} is\", len(result))\n"
          ]
        }
      ]
    },
    {
      "cell_type": "markdown",
      "source": [
        "Accuracy metrics"
      ],
      "metadata": {
        "id": "jSdBKAirxw5F"
      }
    },
    {
      "cell_type": "code",
      "source": [
        "report_dict = classification_report(y_test, y_pred, output_dict=True)\n",
        "# Assuming '1' is the class representing potential bias, we look at its F1-score\n",
        "f1_score_biased = report_dict['1']['f1-score']\n",
        "print(f\"\\nF1-score for biased class (1): {f1_score_biased}\")\n",
        "\n",
        "# You can compare this F1-score to F1-scores from other models to pick the best one.\n",
        "# For example, if you trained another model `model2` and got `f1_score_biased_model2`,\n",
        "# you would compare `f1_score_biased` and `f1_score_biased_model2`.\n",
        "\n",
        "# Example comparison (assuming another hypothetical model's F1-score)\n",
        "# f1_score_biased_model2 = 0.85 # Replace with the actual F1-score from model2\n",
        "\n",
        "# if f1_score_biased > f1_score_biased_model2:\n",
        "#     print(\"\\nCurrent model has a better F1-score for the biased class.\")\n",
        "# else:\n",
        "#     print(\"\\nHypothetical model 2 has a better F1-score for the biased class.\")"
      ],
      "metadata": {
        "colab": {
          "base_uri": "https://localhost:8080/"
        },
        "id": "-miZbeIFSyek",
        "outputId": "d1be2a22-41a5-4b2f-eb9d-773eb2d2df7e"
      },
      "execution_count": null,
      "outputs": [
        {
          "output_type": "stream",
          "name": "stdout",
          "text": [
            "\n",
            "F1-score for biased class (1): 0.0\n"
          ]
        },
        {
          "output_type": "stream",
          "name": "stderr",
          "text": [
            "/usr/local/lib/python3.11/dist-packages/sklearn/metrics/_classification.py:1565: UndefinedMetricWarning: Precision is ill-defined and being set to 0.0 in labels with no predicted samples. Use `zero_division` parameter to control this behavior.\n",
            "  _warn_prf(average, modifier, f\"{metric.capitalize()} is\", len(result))\n",
            "/usr/local/lib/python3.11/dist-packages/sklearn/metrics/_classification.py:1565: UndefinedMetricWarning: Recall is ill-defined and being set to 0.0 in labels with no true samples. Use `zero_division` parameter to control this behavior.\n",
            "  _warn_prf(average, modifier, f\"{metric.capitalize()} is\", len(result))\n",
            "/usr/local/lib/python3.11/dist-packages/sklearn/metrics/_classification.py:1565: UndefinedMetricWarning: Precision is ill-defined and being set to 0.0 in labels with no predicted samples. Use `zero_division` parameter to control this behavior.\n",
            "  _warn_prf(average, modifier, f\"{metric.capitalize()} is\", len(result))\n",
            "/usr/local/lib/python3.11/dist-packages/sklearn/metrics/_classification.py:1565: UndefinedMetricWarning: Recall is ill-defined and being set to 0.0 in labels with no true samples. Use `zero_division` parameter to control this behavior.\n",
            "  _warn_prf(average, modifier, f\"{metric.capitalize()} is\", len(result))\n",
            "/usr/local/lib/python3.11/dist-packages/sklearn/metrics/_classification.py:1565: UndefinedMetricWarning: Precision is ill-defined and being set to 0.0 in labels with no predicted samples. Use `zero_division` parameter to control this behavior.\n",
            "  _warn_prf(average, modifier, f\"{metric.capitalize()} is\", len(result))\n",
            "/usr/local/lib/python3.11/dist-packages/sklearn/metrics/_classification.py:1565: UndefinedMetricWarning: Recall is ill-defined and being set to 0.0 in labels with no true samples. Use `zero_division` parameter to control this behavior.\n",
            "  _warn_prf(average, modifier, f\"{metric.capitalize()} is\", len(result))\n"
          ]
        }
      ]
    },
    {
      "cell_type": "code",
      "source": [
        "# Since the dataset is very small, the evaluation metrics will be very sensitive\n",
        "# and may not reflect the model's performance on a larger dataset. With only 6\n",
        "# samples, the split results in very small train and test sets. For a real-world\n",
        "# scenario, a much larger and more diverse dataset would be required for\n",
        "# training and evaluation.\n",
        "\n",
        "# Given the extremely small size, evaluating with standard metrics like accuracy and\n",
        "# classification report might not be very meaningful.\n",
        "# However, we can still print the results to see how the model performed on this\n",
        "# tiny test set.\n",
        "\n",
        "print(\"\\n--- Evaluation Results on Small Test Set ---\")\n",
        "print(\"Accuracy:\", accuracy)\n",
        "print(\"Classification Report:\\n\", report)\n",
        "\n",
        "# It's important to note that these results are highly unstable due to the data size.\n",
        "# With more data, cross-validation would be a more robust evaluation method."
      ],
      "metadata": {
        "colab": {
          "base_uri": "https://localhost:8080/"
        },
        "id": "DsHzfl4xQvxi",
        "outputId": "db8c212d-fdcd-4af8-e7a0-22ef37e3a55c"
      },
      "execution_count": null,
      "outputs": [
        {
          "output_type": "stream",
          "name": "stdout",
          "text": [
            "\n",
            "--- Evaluation Results on Small Test Set ---\n",
            "Accuracy: 0.0\n",
            "Classification Report:\n",
            "               precision    recall  f1-score   support\n",
            "\n",
            "           0       0.00      0.00      0.00       0.0\n",
            "           1       0.00      0.00      0.00       2.0\n",
            "\n",
            "    accuracy                           0.00       2.0\n",
            "   macro avg       0.00      0.00      0.00       2.0\n",
            "weighted avg       0.00      0.00      0.00       2.0\n",
            "\n"
          ]
        }
      ]
    },
    {
      "cell_type": "markdown",
      "source": [
        "Importing GridSearch and model training"
      ],
      "metadata": {
        "id": "L8NF25q3yA-l"
      }
    },
    {
      "cell_type": "code",
      "source": [
        "from sklearn.model_selection import GridSearchCV\n",
        "from sklearn.pipeline import Pipeline\n",
        "\n",
        "# Create a pipeline for vectorization and model training\n",
        "pipeline = Pipeline([\n",
        "    ('tfidf', TfidfVectorizer()),\n",
        "    ('logreg', LogisticRegression())\n",
        "])\n",
        "\n",
        "# Define the parameter grid for tuning\n",
        "param_grid = {\n",
        "    'tfidf__max_features': [500, 1000, 2000],  # Vary the number of features\n",
        "    'logreg__C': [0.1, 1.0, 10.0]              # Vary the regularization parameter for Logistic Regression\n",
        "}\n",
        "\n",
        "# Perform GridSearchCV\n",
        "grid_search = GridSearchCV(pipeline, param_grid, cv=2, scoring='accuracy') # cv=2 due to very small dataset\n",
        "grid_search.fit(df['cleaned_text'], df['label'])\n",
        "\n",
        "print(\"\\nBest parameters found:\", grid_search.best_params_)\n",
        "print(\"Best cross-validation accuracy:\", grid_search.best_score_)\n",
        "\n",
        "# Evaluate the best model on the original test set (if you still want to see performance on the held-out data)\n",
        "best_model = grid_search.best_estimator_\n",
        "y_pred_tuned = best_model.predict(X_test)\n",
        "\n",
        "print(\"\\nEvaluation of the best model on the original test set:\")\n",
        "print(\"Accuracy:\", accuracy_score(y_test, y_pred_tuned))\n",
        "print(\"Classification Report:\\n\", classification_report(y_test, y_pred_tuned))\n",
        "\n",
        "# Note: The GridSearchCV results with cv=2 on such a small dataset (6 samples)\n",
        "# are highly unreliable and prone to extreme variance. The \"best\" parameters found\n",
        "# are only \"best\" for this specific, tiny split. For real-world applications,\n",
        "# a much larger dataset and higher cross-validation folds (e.g., cv=5 or 10)\n",
        "# are essential for meaningful hyperparameter tuning.\n"
      ],
      "metadata": {
        "id": "pL2DzDt8Q-CO"
      },
      "execution_count": null,
      "outputs": []
    },
    {
      "cell_type": "markdown",
      "source": [
        "Deploying the model"
      ],
      "metadata": {
        "id": "fkIJnmLtx8Vv"
      }
    },
    {
      "cell_type": "code",
      "source": [
        "print(\"\\nModel deployment would typically involve saving the trained model and vectorizer.\")\n",
        "print(\"Due to the nature of this example and the extremely small dataset, we will not proceed with a formal deployment.\")\n",
        "print(\"In a real scenario, you would save the 'best_model' and 'tfidf_vectorizer' (from the final trained model or pipeline) using libraries like `joblib` or `pickle`.\")\n",
        "print(\"These saved objects could then be loaded in a production environment to make predictions on new text data.\")\n",
        "\n",
        "# Example of saving (would require more data and a robust model)\n",
        "# import joblib\n",
        "# joblib.dump(best_model, 'gender_bias_model.pkl')\n",
        "# joblib.dump(tfidf_vectorizer, 'tfidf_vectorizer.pkl')\n",
        "# print(\"\\nModel and vectorizer saved (example).\")\n",
        "\n",
        "print(\"\\nTo deploy, you would:\")\n",
        "print(\"1. Save the trained model (e.g., `best_model`).\")\n",
        "print(\"2. Save the vectorizer (e.g., the final `TfidfVectorizer` used).\")\n",
        "print(\"3. Create an API endpoint or application that:\")\n",
        "print(\"   a. Loads the saved vectorizer and model.\")\n",
        "print(\"   b. Receans new text input.\")\n",
        "print(\"   c. Preprocesses the new text using the same cleaning steps (`clean_text`).\")\n",
        "print(\"   d. Vectorizes the cleaned text using the loaded vectorizer.\")\n",
        "print(\"   e. Uses the loaded model to predict the bias label.\")\n",
        "print(\"   f. Returns the prediction.\")\n",
        "\n",
        "print(\"\\nThis example serves as a foundational step. A production-ready deployment requires significant effort beyond this.\")"
      ],
      "metadata": {
        "colab": {
          "base_uri": "https://localhost:8080/"
        },
        "id": "qJipxCMxRDiA",
        "outputId": "d7bae916-13e6-4a0e-e1bf-01e20d206ece"
      },
      "execution_count": null,
      "outputs": [
        {
          "output_type": "stream",
          "name": "stdout",
          "text": [
            "\n",
            "Model deployment would typically involve saving the trained model and vectorizer.\n",
            "Due to the nature of this example and the extremely small dataset, we will not proceed with a formal deployment.\n",
            "In a real scenario, you would save the 'best_model' and 'tfidf_vectorizer' (from the final trained model or pipeline) using libraries like `joblib` or `pickle`.\n",
            "These saved objects could then be loaded in a production environment to make predictions on new text data.\n",
            "\n",
            "To deploy, you would:\n",
            "1. Save the trained model (e.g., `best_model`).\n",
            "2. Save the vectorizer (e.g., the final `TfidfVectorizer` used).\n",
            "3. Create an API endpoint or application that:\n",
            "   a. Loads the saved vectorizer and model.\n",
            "   b. Receans new text input.\n",
            "   c. Preprocesses the new text using the same cleaning steps (`clean_text`).\n",
            "   d. Vectorizes the cleaned text using the loaded vectorizer.\n",
            "   e. Uses the loaded model to predict the bias label.\n",
            "   f. Returns the prediction.\n",
            "\n",
            "This example serves as a foundational step. A production-ready deployment requires significant effort beyond this.\n"
          ]
        }
      ]
    },
    {
      "cell_type": "code",
      "source": [
        "# Make predictions on the original dataset\n",
        "df['predicted_label'] = best_model.predict(df['cleaned_text'])\n",
        "\n",
        "print(\"\\nOriginal data with predictions:\")\n",
        "print(df[['text', 'label', 'predicted_label']])\n",
        "\n",
        "# You can now manually inspect the predictions compared to the original labels\n",
        "# to understand the model's behavior on this small dataset.\n",
        "\n",
        "# Note: Given the small dataset and simple model, performance on unseen data\n",
        "# will be highly unpredictable. This is purely for demonstrating the process\n",
        "# of getting predictions after training and tuning."
      ],
      "metadata": {
        "colab": {
          "base_uri": "https://localhost:8080/",
          "height": 211
        },
        "id": "jdITHgU4Up27",
        "outputId": "7bc77856-f1f7-451b-b44d-1ea6dcf50a1d",
        "collapsed": true
      },
      "execution_count": null,
      "outputs": [
        {
          "output_type": "error",
          "ename": "NameError",
          "evalue": "name 'best_model' is not defined",
          "traceback": [
            "\u001b[0;31m---------------------------------------------------------------------------\u001b[0m",
            "\u001b[0;31mNameError\u001b[0m                                 Traceback (most recent call last)",
            "\u001b[0;32m<ipython-input-26-274188064>\u001b[0m in \u001b[0;36m<cell line: 0>\u001b[0;34m()\u001b[0m\n\u001b[1;32m      1\u001b[0m \u001b[0;31m# Make predictions on the original dataset\u001b[0m\u001b[0;34m\u001b[0m\u001b[0;34m\u001b[0m\u001b[0m\n\u001b[0;32m----> 2\u001b[0;31m \u001b[0mdf\u001b[0m\u001b[0;34m[\u001b[0m\u001b[0;34m'predicted_label'\u001b[0m\u001b[0;34m]\u001b[0m \u001b[0;34m=\u001b[0m \u001b[0mbest_model\u001b[0m\u001b[0;34m.\u001b[0m\u001b[0mpredict\u001b[0m\u001b[0;34m(\u001b[0m\u001b[0mdf\u001b[0m\u001b[0;34m[\u001b[0m\u001b[0;34m'cleaned_text'\u001b[0m\u001b[0;34m]\u001b[0m\u001b[0;34m)\u001b[0m\u001b[0;34m\u001b[0m\u001b[0;34m\u001b[0m\u001b[0m\n\u001b[0m\u001b[1;32m      3\u001b[0m \u001b[0;34m\u001b[0m\u001b[0m\n\u001b[1;32m      4\u001b[0m \u001b[0mprint\u001b[0m\u001b[0;34m(\u001b[0m\u001b[0;34m\"\\nOriginal data with predictions:\"\u001b[0m\u001b[0;34m)\u001b[0m\u001b[0;34m\u001b[0m\u001b[0;34m\u001b[0m\u001b[0m\n\u001b[1;32m      5\u001b[0m \u001b[0mprint\u001b[0m\u001b[0;34m(\u001b[0m\u001b[0mdf\u001b[0m\u001b[0;34m[\u001b[0m\u001b[0;34m[\u001b[0m\u001b[0;34m'text'\u001b[0m\u001b[0;34m,\u001b[0m \u001b[0;34m'label'\u001b[0m\u001b[0;34m,\u001b[0m \u001b[0;34m'predicted_label'\u001b[0m\u001b[0;34m]\u001b[0m\u001b[0;34m]\u001b[0m\u001b[0;34m)\u001b[0m\u001b[0;34m\u001b[0m\u001b[0;34m\u001b[0m\u001b[0m\n",
            "\u001b[0;31mNameError\u001b[0m: name 'best_model' is not defined"
          ]
        }
      ]
    },
    {
      "cell_type": "markdown",
      "source": [
        "Test the model"
      ],
      "metadata": {
        "id": "HsivDL0ww2wP"
      }
    },
    {
      "cell_type": "code",
      "source": [
        "# Include a few cases for demonstration purposes after the model is trained and evaluated.\n",
        "\n",
        "# Define new text inputs to test the model\n",
        "new_texts = [\n",
        "    \"We require a strong candidate for this leadership role. She should be decisive.\", # Case 1: Explicit female pronoun\n",
        "    \"Looking for a data scientist with excellent technical skills.\",                   # Case 2: Neutral language\n",
        "    \"Seeking a dedicated team member. He must be highly collaborative.\",             # Case 3: Explicit male pronoun\n",
        "    \"This role is perfect for someone who is ambitious and a self-starter.\"         # Case 4: Neutral language, potentially stereotypically masculine\n",
        "]\n",
        "\n",
        "# Create a DataFrame for the new cases\n",
        "new_df = pd.DataFrame({'text': new_texts})\n",
        "\n",
        "# Clean the new text data using the same cleaning function\n",
        "new_df['cleaned_text'] = new_df['text'].apply(clean_text)\n",
        "\n",
        "# Use the best model (from GridSearchCV) to make predictions on the new data\n",
        "# The best_model already includes the vectorizer and the classifier via the Pipeline\n",
        "new_df['predicted_label'] = best_model.predict(new_df['cleaned_text'])\n",
        "\n",
        "print(\"\\n--- Predictions on new cases ---\")\n",
        "for index, row in new_df.iterrows():\n",
        "    print(f\"\\nText: {row['text']}\")\n",
        "    print(f\"Cleaned Text: {row['cleaned_text']}\")\n",
        "    print(f\"Predicted Bias (1=Potentially Biased, 0=Likely No Bias): {row['predicted_label']}\")\n",
        "\n",
        "# Interpretation of the predictions:\n",
        "# - A predicted label of 1 suggests the model has identified patterns similar to those in the training data that were labeled as potentially biased.\n",
        "# - A predicted label of 0 suggests the model has identified patterns similar to those in the training data that were labeled as likely not biased.\n",
        "\n",
        "# It is important to remember that this model was trained on a very small and\n",
        "# unrepresentative dataset. These predictions are for demonstration only and\n",
        "# should not be used in a real-world application without extensive training\n",
        "# on a large, diverse, and carefully labeled dataset. The simple TF-IDF and\n",
        "# Logistic Regression model may not capture complex linguistic nuances of bias.\n",
        "# More advanced techniques using large language models (like BERT, etc.) would\n",
        "# be necessary for a more robust solution."
      ],
      "metadata": {
        "id": "7JkWJZAHVZ01"
      },
      "execution_count": null,
      "outputs": []
    },
    {
      "cell_type": "markdown",
      "source": [
        "Final model"
      ],
      "metadata": {
        "id": "LQzn0fs9wzd5"
      }
    },
    {
      "cell_type": "code",
      "source": [
        "# The best_model object obtained from GridSearchCV is a Pipeline that includes\n",
        "# both the TF-IDF vectorizer and the Logistic Regression model.\n",
        "# We can directly use this pipeline to predict bias for new text.\n",
        "\n",
        "def predict_bias(text):\n",
        "    \"\"\"\n",
        "    Predicts whether a given text is potentially biased or likely not biased\n",
        "    using the trained pipeline model.\n",
        "\n",
        "    Args:\n",
        "        text (str): The input text (e.g., job description snippet, interviewer remark).\n",
        "\n",
        "    Returns:\n",
        "        int: 1 if the text is predicted as potentially biased, 0 otherwise.\n",
        "             Returns -1 if the input is not a string or cannot be processed.\n",
        "    \"\"\"\n",
        "    if not isinstance(text, str):\n",
        "        print(\"Error: Input must be a string.\")\n",
        "        return -1\n",
        "    try:\n",
        "        # Clean the input text using the defined clean_text function\n",
        "        cleaned_text = clean_text(text)\n",
        "\n",
        "        # The best_model (the Pipeline) expects a list of strings as input for prediction\n",
        "        prediction = best_model.predict([cleaned_text])\n",
        "\n",
        "        # The predict method returns an array, so we take the first element\n",
        "        return int(prediction[0])\n",
        "    except Exception as e:\n",
        "        print(f\"An error occurred during prediction: {e}\")\n",
        "        return -1\n",
        "\n",
        "# Demonstrate the usage of the predict_bias function\n",
        "print(\"\\n--- Demonstrating the predict_bias function ---\")\n",
        "\n",
        "text1 = \"We need a strong leader for this role. He must be assertive.\"\n",
        "prediction1 = predict_bias(text1)\n",
        "print(f\"Text: '{text1}'\")\n",
        "print(f\"Predicted Bias: {prediction1} (1=Potentially Biased, 0=Likely No Bias)\")\n",
        "\n",
        "text2 = \"Seeking a creative designer with excellent communication skills.\"\n",
        "prediction2 = predict_bias(text2)\n",
        "print(f\"Text: '{text2}'\")\n",
        "print(f\"Predicted Bias: {prediction2} (1=Potentially Biased, 0=Likely No Bias)\")\n",
        "\n",
        "text3 = \"The ideal candidate is a go-getter and a real hustler.\"\n",
        "prediction3 = predict_bias(text3)\n",
        "print(f\"Text: '{text3}'\")\n",
        "print(f\"Predicted Bias: {prediction3} (1=Potentially Biased, 0=Likely No Bias)\")\n",
        "\n",
        "text4 = \"We are looking for a highly organized and empathetic project manager.\"\n",
        "prediction4 = predict_bias(text4)\n",
        "print(f\"Text: '{text4}'\")\n",
        "print(f\"Predicted Bias: {prediction4} (1=Potentially Biased, 0=Likely No Bias)\")\n",
        "\n",
        "text5 = \"Seeking an assistant for this role. She should be good at multitasking.\"\n",
        "prediction5 = predict_bias(text5)\n",
        "print(f\"Text: '{text5}'\")\n",
        "print(f\"Predicted Bias: {prediction5} (1=Potentially Biased, 0=Likely No Bias)\")\n"
      ],
      "metadata": {
        "colab": {
          "base_uri": "https://localhost:8080/"
        },
        "id": "udUBk87SX5Ib",
        "outputId": "38c592e0-a8c4-471e-d08f-ac4e31238674"
      },
      "execution_count": null,
      "outputs": [
        {
          "output_type": "stream",
          "name": "stdout",
          "text": [
            "\n",
            "--- Demonstrating the predict_bias function ---\n",
            "An error occurred during prediction: name 'best_model' is not defined\n",
            "Text: 'We need a strong leader for this role. He must be assertive.'\n",
            "Predicted Bias: -1 (1=Potentially Biased, 0=Likely No Bias)\n",
            "An error occurred during prediction: name 'best_model' is not defined\n",
            "Text: 'Seeking a creative designer with excellent communication skills.'\n",
            "Predicted Bias: -1 (1=Potentially Biased, 0=Likely No Bias)\n",
            "An error occurred during prediction: name 'best_model' is not defined\n",
            "Text: 'The ideal candidate is a go-getter and a real hustler.'\n",
            "Predicted Bias: -1 (1=Potentially Biased, 0=Likely No Bias)\n",
            "An error occurred during prediction: name 'best_model' is not defined\n",
            "Text: 'We are looking for a highly organized and empathetic project manager.'\n",
            "Predicted Bias: -1 (1=Potentially Biased, 0=Likely No Bias)\n",
            "An error occurred during prediction: name 'best_model' is not defined\n",
            "Text: 'Seeking an assistant for this role. She should be good at multitasking.'\n",
            "Predicted Bias: -1 (1=Potentially Biased, 0=Likely No Bias)\n"
          ]
        }
      ]
    },
    {
      "cell_type": "markdown",
      "source": [
        "Example"
      ],
      "metadata": {
        "id": "aALUCB9lwvtK"
      }
    },
    {
      "cell_type": "code",
      "source": [
        "# Example job description with some potentially biased words\n",
        "job_description_biased = \"We are seeking a dynamic salesman who is a proven closer. He must be aggressive and a go-getter.\"\n",
        "\n",
        "# Predict bias for the job description\n",
        "predicted_bias = predict_bias(job_description_biased)\n",
        "\n",
        "print(f\"\\nAnalyzing job description: '{job_description_biased}'\")\n",
        "print(f\"Predicted Bias: {predicted_bias} (1=Potentially Biased, 0=Likely No Bias)\")\n"
      ],
      "metadata": {
        "colab": {
          "base_uri": "https://localhost:8080/"
        },
        "id": "3TyU_uo7brTi",
        "outputId": "ed0ab367-df64-426f-e5d1-edab4cded846"
      },
      "execution_count": null,
      "outputs": [
        {
          "output_type": "stream",
          "name": "stdout",
          "text": [
            "An error occurred during prediction: name 'best_model' is not defined\n",
            "\n",
            "Analyzing job description: 'We are seeking a dynamic salesman who is a proven closer. He must be aggressive and a go-getter.'\n",
            "Predicted Bias: -1 (1=Potentially Biased, 0=Likely No Bias)\n"
          ]
        }
      ]
    }
  ]
}